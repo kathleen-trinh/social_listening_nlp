{
 "cells": [
  {
   "cell_type": "code",
   "execution_count": null,
   "metadata": {},
   "outputs": [],
   "source": [
    "#####################################################################################\n",
    "# gensim_dictionary_parser.py\n",
    "#\n",
    "# Description:\n",
    "# This script loads a previously made gensim dictionary file\n",
    "# (most likely with filename \"dictionary.gensim\" or similar)\n",
    "# into memory to make a .csv output file containing:\n",
    "# 1. the word ID of each word in the dictionary\n",
    "# 2. the actual word corresponding to each word ID\n",
    "# 3. the collection frequency of each word\n",
    "#    (the number of times the word occurs across the entire corpus)\n",
    "# 4. the document frequency of each word\n",
    "#    (the number of documents the word occurs in)\n",
    "#\n",
    "# Gensim's corpora.dictionary documentation:\n",
    "# https://radimrehurek.com/gensim/corpora/dictionary.html\n",
    "#\n",
    "# Date Created: 09/18/2019\n",
    "# Last Modified: 09/19/2019\n",
    "#####################################################################################"
   ]
  },
  {
   "cell_type": "code",
   "execution_count": 67,
   "metadata": {},
   "outputs": [],
   "source": [
    "### GLOBAL VARIABLES ###\n",
    "\n",
    "PROJECT_FOLDER = \"C:/Users/kathleen.trinh/Documents/Subaru/Crosstrek/LDA/\"\n",
    "\n",
    "DICTIONARY_FILE = \"dictionary.gensim\"\n",
    "\n",
    "OUTPUT_FILE1 = \"dictionary_original_order\"\n",
    "OUTPUT_FILE2 = \"dictionary_lexicographical_order\""
   ]
  },
  {
   "cell_type": "code",
   "execution_count": 68,
   "metadata": {},
   "outputs": [],
   "source": [
    "### IMPORTS ###\n",
    "\n",
    "# Built-in Libraries\n",
    "import numpy as np\n",
    "import os\n",
    "import pandas as pd\n",
    "import re\n",
    "\n",
    "# Gensim\n",
    "import gensim\n",
    "from gensim import corpora"
   ]
  },
  {
   "cell_type": "code",
   "execution_count": 69,
   "metadata": {},
   "outputs": [],
   "source": [
    "# Load previously made dictionary\n",
    "dictionary = corpora.Dictionary.load(PROJECT_FOLDER + DICTIONARY_FILE)"
   ]
  },
  {
   "cell_type": "code",
   "execution_count": 70,
   "metadata": {},
   "outputs": [],
   "source": [
    "# Save dictionary to text file with words in their original order\n",
    "#dictionary.save_as_text(fname=(PROJECT_FOLDER + OUTPUT_FILE1 + \".txt\"), sort_by_word=False)\n",
    "\n",
    "# Save dictionary to text file with words sorted by lexicographical order\n",
    "#dictionary.save_as_text(fname=(PROJECT_FOLDER + OUTPUT_FILE2 + \".txt\"), sort_by_word=True)"
   ]
  },
  {
   "cell_type": "code",
   "execution_count": 71,
   "metadata": {},
   "outputs": [
    {
     "data": {
      "text/plain": [
       "51915"
      ]
     },
     "execution_count": 71,
     "metadata": {},
     "output_type": "execute_result"
    }
   ],
   "source": [
    "# Print the length of the dictionary\n",
    "len(dictionary)"
   ]
  },
  {
   "cell_type": "code",
   "execution_count": 72,
   "metadata": {},
   "outputs": [],
   "source": [
    "# Initialize a dict object to store the gensim dictionary's data into\n",
    "word_dict = {}\n",
    "\n",
    "# Start with the actual words and their IDs using id2token\n",
    "for w_id, word in dictionary.id2token.items():\n",
    "    word_dict[w_id] = [word]"
   ]
  },
  {
   "cell_type": "code",
   "execution_count": 73,
   "metadata": {},
   "outputs": [],
   "source": [
    "# If using id2token does not work, use token2id to start\n",
    "if len(word_dict) == 0:\n",
    "    for word, w_id in dictionary.token2id.items():\n",
    "        word_dict[w_id] = [word]"
   ]
  },
  {
   "cell_type": "code",
   "execution_count": 74,
   "metadata": {},
   "outputs": [],
   "source": [
    "# Add the collection frequency of each word\n",
    "for w_id, c_freq in dictionary.cfs.items():\n",
    "    word_dict[w_id].append(c_freq)\n",
    "\n",
    "# Add the document frequency of each word\n",
    "for w_id, d_freq in dictionary.dfs.items():\n",
    "    word_dict[w_id].append(d_freq)"
   ]
  },
  {
   "cell_type": "code",
   "execution_count": 75,
   "metadata": {},
   "outputs": [],
   "source": [
    "column_names = [\"word_id\", \"word\", \"collection_frequency\", \"document_frequency\"]\n",
    "\n",
    "data = [[k, v[0], v[1], v[2]] for (k,v) in word_dict.items()]"
   ]
  },
  {
   "cell_type": "code",
   "execution_count": 76,
   "metadata": {},
   "outputs": [],
   "source": [
    "df = pd.DataFrame(data, columns=column_names)"
   ]
  },
  {
   "cell_type": "code",
   "execution_count": 77,
   "metadata": {},
   "outputs": [
    {
     "data": {
      "text/html": [
       "<div>\n",
       "<style scoped>\n",
       "    .dataframe tbody tr th:only-of-type {\n",
       "        vertical-align: middle;\n",
       "    }\n",
       "\n",
       "    .dataframe tbody tr th {\n",
       "        vertical-align: top;\n",
       "    }\n",
       "\n",
       "    .dataframe thead th {\n",
       "        text-align: right;\n",
       "    }\n",
       "</style>\n",
       "<table border=\"1\" class=\"dataframe\">\n",
       "  <thead>\n",
       "    <tr style=\"text-align: right;\">\n",
       "      <th></th>\n",
       "      <th>word_id</th>\n",
       "      <th>word</th>\n",
       "      <th>collection_frequency</th>\n",
       "      <th>document_frequency</th>\n",
       "    </tr>\n",
       "  </thead>\n",
       "  <tbody>\n",
       "    <tr>\n",
       "      <th>4148</th>\n",
       "      <td>4148</td>\n",
       "      <td>plunge</td>\n",
       "      <td>22</td>\n",
       "      <td>22</td>\n",
       "    </tr>\n",
       "    <tr>\n",
       "      <th>7951</th>\n",
       "      <td>7951</td>\n",
       "      <td>publish</td>\n",
       "      <td>120</td>\n",
       "      <td>104</td>\n",
       "    </tr>\n",
       "    <tr>\n",
       "      <th>34954</th>\n",
       "      <td>34954</td>\n",
       "      <td>cupcake</td>\n",
       "      <td>1</td>\n",
       "      <td>1</td>\n",
       "    </tr>\n",
       "    <tr>\n",
       "      <th>3342</th>\n",
       "      <td>3342</td>\n",
       "      <td>knoxville</td>\n",
       "      <td>22</td>\n",
       "      <td>22</td>\n",
       "    </tr>\n",
       "    <tr>\n",
       "      <th>5288</th>\n",
       "      <td>5288</td>\n",
       "      <td>cargurus</td>\n",
       "      <td>37</td>\n",
       "      <td>34</td>\n",
       "    </tr>\n",
       "  </tbody>\n",
       "</table>\n",
       "</div>"
      ],
      "text/plain": [
       "       word_id       word  collection_frequency  document_frequency\n",
       "4148      4148     plunge                    22                  22\n",
       "7951      7951    publish                   120                 104\n",
       "34954    34954    cupcake                     1                   1\n",
       "3342      3342  knoxville                    22                  22\n",
       "5288      5288   cargurus                    37                  34"
      ]
     },
     "execution_count": 77,
     "metadata": {},
     "output_type": "execute_result"
    }
   ],
   "source": [
    "df.sample(5)"
   ]
  },
  {
   "cell_type": "code",
   "execution_count": 79,
   "metadata": {},
   "outputs": [],
   "source": [
    "df.to_csv((PROJECT_FOLDER + OUTPUT_FILE1 + \".csv\"), index=None, header=True, encoding='utf-8')"
   ]
  },
  {
   "cell_type": "code",
   "execution_count": 80,
   "metadata": {},
   "outputs": [],
   "source": [
    "# Sort rows by lexicographical order\n",
    "sorted_data = [[k, v[0], v[1], v[2]] for (k,v) in sorted(word_dict.items(), key=lambda item: item[1][0])]"
   ]
  },
  {
   "cell_type": "code",
   "execution_count": 81,
   "metadata": {},
   "outputs": [],
   "source": [
    "sorted_df = pd.DataFrame(sorted_data, columns=column_names)"
   ]
  },
  {
   "cell_type": "code",
   "execution_count": 82,
   "metadata": {},
   "outputs": [
    {
     "data": {
      "text/html": [
       "<div>\n",
       "<style scoped>\n",
       "    .dataframe tbody tr th:only-of-type {\n",
       "        vertical-align: middle;\n",
       "    }\n",
       "\n",
       "    .dataframe tbody tr th {\n",
       "        vertical-align: top;\n",
       "    }\n",
       "\n",
       "    .dataframe thead th {\n",
       "        text-align: right;\n",
       "    }\n",
       "</style>\n",
       "<table border=\"1\" class=\"dataframe\">\n",
       "  <thead>\n",
       "    <tr style=\"text-align: right;\">\n",
       "      <th></th>\n",
       "      <th>word_id</th>\n",
       "      <th>word</th>\n",
       "      <th>collection_frequency</th>\n",
       "      <th>document_frequency</th>\n",
       "    </tr>\n",
       "  </thead>\n",
       "  <tbody>\n",
       "    <tr>\n",
       "      <th>32460</th>\n",
       "      <td>16580</td>\n",
       "      <td>pac</td>\n",
       "      <td>5</td>\n",
       "      <td>5</td>\n",
       "    </tr>\n",
       "    <tr>\n",
       "      <th>33102</th>\n",
       "      <td>21718</td>\n",
       "      <td>peds</td>\n",
       "      <td>4</td>\n",
       "      <td>2</td>\n",
       "    </tr>\n",
       "    <tr>\n",
       "      <th>12093</th>\n",
       "      <td>5520</td>\n",
       "      <td>dismissal</td>\n",
       "      <td>7</td>\n",
       "      <td>7</td>\n",
       "    </tr>\n",
       "    <tr>\n",
       "      <th>27574</th>\n",
       "      <td>43484</td>\n",
       "      <td>mds</td>\n",
       "      <td>1</td>\n",
       "      <td>1</td>\n",
       "    </tr>\n",
       "    <tr>\n",
       "      <th>2100</th>\n",
       "      <td>13861</td>\n",
       "      <td>arbitrarily</td>\n",
       "      <td>26</td>\n",
       "      <td>23</td>\n",
       "    </tr>\n",
       "  </tbody>\n",
       "</table>\n",
       "</div>"
      ],
      "text/plain": [
       "       word_id         word  collection_frequency  document_frequency\n",
       "32460    16580          pac                     5                   5\n",
       "33102    21718         peds                     4                   2\n",
       "12093     5520    dismissal                     7                   7\n",
       "27574    43484          mds                     1                   1\n",
       "2100     13861  arbitrarily                    26                  23"
      ]
     },
     "execution_count": 82,
     "metadata": {},
     "output_type": "execute_result"
    }
   ],
   "source": [
    "sorted_df.sample(5)"
   ]
  },
  {
   "cell_type": "code",
   "execution_count": 83,
   "metadata": {},
   "outputs": [],
   "source": [
    "sorted_df.to_csv((PROJECT_FOLDER + OUTPUT_FILE2 + \".csv\"), index=None, header=True, encoding='utf-8')"
   ]
  }
 ],
 "metadata": {
  "kernelspec": {
   "display_name": "Python 3",
   "language": "python",
   "name": "python3"
  },
  "language_info": {
   "codemirror_mode": {
    "name": "ipython",
    "version": 3
   },
   "file_extension": ".py",
   "mimetype": "text/x-python",
   "name": "python",
   "nbconvert_exporter": "python",
   "pygments_lexer": "ipython3",
   "version": "3.8.5"
  }
 },
 "nbformat": 4,
 "nbformat_minor": 2
}
